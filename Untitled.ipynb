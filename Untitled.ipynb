{
 "cells": [
  {
   "cell_type": "code",
   "execution_count": 50,
   "id": "b992bd91-5571-4b18-aac3-d8f4f6b273f0",
   "metadata": {},
   "outputs": [
    {
     "name": "stdout",
     "output_type": "stream",
     "text": [
      "Empecemos a jugar,el P1 va a elegir 5 numeros al azar , para ingresar en una bolsa, luego el otro participante P2 va intentar adivinar\n",
      "P1: Ingrese uno de los numeros para adivinar\n"
     ]
    },
    {
     "name": "stdin",
     "output_type": "stream",
     "text": [
      " 1\n",
      "ingrese otro numero 2\n"
     ]
    },
    {
     "name": "stdout",
     "output_type": "stream",
     "text": [
      "Usted a ingresado 2 numero de 5\n"
     ]
    },
    {
     "name": "stdin",
     "output_type": "stream",
     "text": [
      "ingrese otro numero 3\n"
     ]
    },
    {
     "name": "stdout",
     "output_type": "stream",
     "text": [
      "Usted a ingresado 3 numero de 5\n"
     ]
    },
    {
     "name": "stdin",
     "output_type": "stream",
     "text": [
      "ingrese otro numero 4\n"
     ]
    },
    {
     "name": "stdout",
     "output_type": "stream",
     "text": [
      "Usted a ingresado 4 numero de 5\n"
     ]
    },
    {
     "name": "stdin",
     "output_type": "stream",
     "text": [
      "ingrese otro numero 5\n"
     ]
    },
    {
     "name": "stdout",
     "output_type": "stream",
     "text": [
      "Usted a ingresado 5 numero de 5\n",
      "ya ingreso todos los numero para jugar, ahora deje a P2\n"
     ]
    },
    {
     "name": "stdin",
     "output_type": "stream",
     "text": [
      "P2: elige 1 numero para adivinar en 5 que el P1 elegio.. suerte 4\n"
     ]
    },
    {
     "name": "stdout",
     "output_type": "stream",
     "text": [
      "El jugador P2 ha ganado, con el numero 4 el jugado P1 coloco en la posicion 3 \n",
      "GRACIAS POR JUGAR\n"
     ]
    }
   ],
   "source": [
    "print(\"Empecemos a jugar,el P1 va a elegir 5 numeros al azar , para ingresar en una bolsa, luego el otro participante P2 va intentar adivinar\")\n",
    "print(\"P1: Ingrese uno de los numeros para adivinar\")\n",
    "aux=input()\n",
    "bolsa = []\n",
    "bolsa.append(aux)\n",
    "ganador=1\n",
    "i=1\n",
    "\n",
    "for i in range (4):\n",
    "    aux=input(\"ingrese otro numero\")\n",
    "    bolsa.append(aux)\n",
    "    \n",
    "    if aux.isalpha()==True :\n",
    "        bolsa.pop()\n",
    "        print(\"ingreso un valor no validos, solo numero. sera reemplazado por un 0\")\n",
    "        bolsa.append(\"0\")\n",
    "    else :\n",
    "        \n",
    "        print(f\"Usted a ingresado {len(bolsa)} numero de 5\")\n",
    "        \n",
    "print(f\"ya ingreso todos los numero para jugar, ahora deje a P2\")\n",
    "\n",
    "p2=input(\"P2: elige 1 numero para adivinar en 5 que el P1 elegio.. suerte\")\n",
    "\n",
    "for elemento in bolsa :\n",
    "    i+1\n",
    "    if elemento==p2 :\n",
    "        ganador= 2\n",
    "\n",
    "\n",
    "if ganador == 2 :\n",
    "      print(f\"El jugador P2 ha ganado, con el numero {p2} el jugado P1 coloco en la posicion {i} \")\n",
    "else :\n",
    "      print(f\"El jugador P1 ha ganado sus numeros fueron {bolsa} y el P2 eleigio{p2}\")\n",
    "\n",
    "\n",
    "print(\"GRACIAS POR JUGAR\")"
   ]
  },
  {
   "cell_type": "code",
   "execution_count": null,
   "id": "c3058020-5195-4c64-857b-b309e4200864",
   "metadata": {},
   "outputs": [],
   "source": []
  }
 ],
 "metadata": {
  "kernelspec": {
   "display_name": "Python 3 (ipykernel)",
   "language": "python",
   "name": "python3"
  },
  "language_info": {
   "codemirror_mode": {
    "name": "ipython",
    "version": 3
   },
   "file_extension": ".py",
   "mimetype": "text/x-python",
   "name": "python",
   "nbconvert_exporter": "python",
   "pygments_lexer": "ipython3",
   "version": "3.11.1"
  }
 },
 "nbformat": 4,
 "nbformat_minor": 5
}
