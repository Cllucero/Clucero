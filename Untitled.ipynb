{
 "cells": [
  {
   "cell_type": "code",
   "execution_count": 3,
   "id": "f0be07ab-e2b6-4888-a352-9eaa3d203e8b",
   "metadata": {},
   "outputs": [
    {
     "name": "stdin",
     "output_type": "stream",
     "text": [
      "ingrese su mensaje de saludo preferido asdads\n"
     ]
    }
   ],
   "source": [
    "# EJERCICIOS SIMPLES PARA INICIAR PYTHON.\n",
    "saludo=input(\"ingrese su mensaje de saludo preferido\")\n",
    "cantidaLetra=list(saludo).copy()\n",
    "print(f\"Su saludos fue:{saludo} y contiene {cantidaletra.} \"\n"
   ]
  },
  {
   "cell_type": "code",
   "execution_count": null,
   "id": "b6cb62cc-4aaf-478e-9d61-0e442d3f7442",
   "metadata": {},
   "outputs": [],
   "source": []
  }
 ],
 "metadata": {
  "kernelspec": {
   "display_name": "Python 3 (ipykernel)",
   "language": "python",
   "name": "python3"
  },
  "language_info": {
   "codemirror_mode": {
    "name": "ipython",
    "version": 3
   },
   "file_extension": ".py",
   "mimetype": "text/x-python",
   "name": "python",
   "nbconvert_exporter": "python",
   "pygments_lexer": "ipython3",
   "version": "3.11.1"
  }
 },
 "nbformat": 4,
 "nbformat_minor": 5
}
