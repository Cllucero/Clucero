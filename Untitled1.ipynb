{
 "cells": [
  {
   "cell_type": "code",
   "execution_count": 16,
   "id": "7d37efda-cc7a-483a-85a2-03f423dacfc0",
   "metadata": {},
   "outputs": [
    {
     "name": "stdin",
     "output_type": "stream",
     "text": [
      "Ingrese el nombre de Pais a buscar francia\n"
     ]
    },
    {
     "name": "stdout",
     "output_type": "stream",
     "text": [
      "París\n"
     ]
    }
   ],
   "source": [
    "#USO DE DICCIONARIO\n",
    "paisB=input(\"Ingrese el nombre de Pais a buscar\")\n",
    "listaP = {\"Argentina\":\"BuenosAires\",\"Chile\":\"Santiago\",\"Brasil\":\"Brasilia\",\"México\": \"Ciudad de México\",\"España\": \"Madrid\",\"Francia\": \"París\",\"Italia\": \"Roma\",\"Alemania\": \"Berlín\"}\n",
    "for pais,capital in listaP.items():\n",
    "    if pais==paisB.capitalize():\n",
    "        print(capital)\n"
   ]
  },
  {
   "cell_type": "code",
   "execution_count": 4,
   "id": "aded8fbc-9290-4ba1-a2fa-2d10c3e844ee",
   "metadata": {},
   "outputs": [
    {
     "name": "stdout",
     "output_type": "stream",
     "text": [
      "{'Argetnina': 'BuenosAires', 'Chile': 'Santiago', 'Brasil': 'Brasilia'}\n"
     ]
    }
   ],
   "source": [
    "print(listaP)"
   ]
  },
  {
   "cell_type": "code",
   "execution_count": null,
   "id": "cb9080d6-746c-4d73-811f-3052dd75d7ec",
   "metadata": {},
   "outputs": [],
   "source": [
    "##\n",
    "# Solución que el estudiante debe escribir\n",
    "paises_capitales = {\n",
    "    \"México\": \"Ciudad de México\",\n",
    "    \"España\": \"Madrid\",\n",
    "    \"Francia\": \"París\",\n",
    "    \"Italia\": \"Roma\",\n",
    "    \"Alemania\": \"Berlín\"\n",
    "}\n",
    "\n",
    "pais = \"Francia\"\n",
    "capital = paises_capitales.get(pais, \"Capital no encontrada\")\n",
    "print(capital)\n",
    "\n",
    "##"
   ]
  }
 ],
 "metadata": {
  "kernelspec": {
   "display_name": "Python 3 (ipykernel)",
   "language": "python",
   "name": "python3"
  },
  "language_info": {
   "codemirror_mode": {
    "name": "ipython",
    "version": 3
   },
   "file_extension": ".py",
   "mimetype": "text/x-python",
   "name": "python",
   "nbconvert_exporter": "python",
   "pygments_lexer": "ipython3",
   "version": "3.11.1"
  }
 },
 "nbformat": 4,
 "nbformat_minor": 5
}
