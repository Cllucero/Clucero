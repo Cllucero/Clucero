{
 "cells": [
  {
   "cell_type": "code",
   "execution_count": 44,
   "id": "af7106c1-2bf2-4f10-a0db-09a4137d8e26",
   "metadata": {},
   "outputs": [],
   "source": [
    "def getNotas():\n",
    "    #carga la 3 notas de usuario\n",
    "    notas=[]\n",
    "    for i in range(3):\n",
    "        aux=float(input(f\"Ingrese la nota {i+1} correspondiente\"))\n",
    "        notas.append(aux)\n",
    "        i+1\n",
    "        #print(notas)\n",
    "    return notas     \n",
    "\n",
    "def getPromedio(notas):\n",
    "    #funcion para calcular promedio\n",
    "    return float(sum(notas)/len(notas))\n",
    "    \n",
    "def getEstado(notas):\n",
    "    # para determinar la situación academica de estudiante, aprueba con más o igual de 7\n",
    "    estadoP=False\n",
    "    promedio=notas\n",
    "    if promedio>=7:\n",
    "        print(f\"usted está aprobado con promedio {promedio} \")\n",
    "        estado=True\n",
    "    else:\n",
    "        print(f\"Su promedio de {promedio} no fue suficiente, está desaprobado\")\n",
    "\n",
    "\n",
    "    "
   ]
  },
  {
   "cell_type": "code",
   "execution_count": 45,
   "id": "d5249312-8fe9-4eaa-92ab-8f91fd455b20",
   "metadata": {},
   "outputs": [
    {
     "name": "stdout",
     "output_type": "stream",
     "text": [
      "Prueba_1: Calcular el Estado academico\n"
     ]
    },
    {
     "name": "stdin",
     "output_type": "stream",
     "text": [
      "Ingrese la nota 1 correspondiente 5\n",
      "Ingrese la nota 2 correspondiente 6\n",
      "Ingrese la nota 3 correspondiente 4\n"
     ]
    },
    {
     "name": "stdout",
     "output_type": "stream",
     "text": [
      "Su promedio de 5.0 no fue suficiente, está desaprobado\n"
     ]
    }
   ],
   "source": [
    "print(\"Prueba_1: Calcular el Estado academico\")\n",
    "getEstado(getPromedio(getNotas()))"
   ]
  },
  {
   "cell_type": "code",
   "execution_count": null,
   "id": "94acd5e2-4347-486e-b4dd-585b11469ed2",
   "metadata": {},
   "outputs": [],
   "source": []
  }
 ],
 "metadata": {
  "kernelspec": {
   "display_name": "Python 3 (ipykernel)",
   "language": "python",
   "name": "python3"
  },
  "language_info": {
   "codemirror_mode": {
    "name": "ipython",
    "version": 3
   },
   "file_extension": ".py",
   "mimetype": "text/x-python",
   "name": "python",
   "nbconvert_exporter": "python",
   "pygments_lexer": "ipython3",
   "version": "3.11.1"
  }
 },
 "nbformat": 4,
 "nbformat_minor": 5
}
