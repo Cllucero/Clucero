{
 "cells": [
  {
   "cell_type": "code",
   "execution_count": 1,
   "id": "86321946-643e-4f7d-bbe3-4a0321913306",
   "metadata": {},
   "outputs": [
    {
     "name": "stdout",
     "output_type": "stream",
     "text": [
      "hola Lu\n"
     ]
    }
   ],
   "source": [
    "print(\"hola Lu\")"
   ]
  },
  {
   "cell_type": "markdown",
   "id": "8724ac7e-fcaa-433a-9803-85e2ae273587",
   "metadata": {},
   "source": [
    "## Estoy probando"
   ]
  },
  {
   "cell_type": "markdown",
   "id": "a7e508f3-9568-469e-bd2c-0cb8db36e9a2",
   "metadata": {},
   "source": []
  }
 ],
 "metadata": {
  "kernelspec": {
   "display_name": "Python 3 (ipykernel)",
   "language": "python",
   "name": "python3"
  },
  "language_info": {
   "codemirror_mode": {
    "name": "ipython",
    "version": 3
   },
   "file_extension": ".py",
   "mimetype": "text/x-python",
   "name": "python",
   "nbconvert_exporter": "python",
   "pygments_lexer": "ipython3",
   "version": "3.11.1"
  }
 },
 "nbformat": 4,
 "nbformat_minor": 5
}
