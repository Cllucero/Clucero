{
 "cells": [
  {
   "cell_type": "code",
   "execution_count": 126,
   "id": "4155fb45-00ae-4e02-9986-576d0e93f82b",
   "metadata": {},
   "outputs": [],
   "source": [
    "# gestor de lista avanzado\n",
    "#Manipulación avanzada de listas.\n",
    "#Objetivo: Escribe un programa que realice las siguientes operaciones en una lista de números:\n",
    "\n",
    "class gestorLista ():\n",
    "    listaAux=[]\n",
    "    def __init__(self, lista):\n",
    "        self.listaAux=lista\n",
    "\n",
    "    # Agregar un número al final de la lista.\n",
    "    def agregarFinal(self,numero):\n",
    "        self.listaAux.append(numero)\n",
    "        print(f\"Agrego un valor al Final de la Lista es el : {numero} Lista Actual: {self.listaAux} \")\n",
    "\n",
    "\n",
    "    #Insertar un número en una posición específica.\n",
    "    def agregarEnLugar(self,numero,lugar):\n",
    "        \n",
    "            if len(self.listaAux)>(lugar+1):\n",
    "                self.listaAux[lugar]=numero\n",
    "                print(f\"Agrego un valor en la posición {lugar} fue el valor: {numero} Lista Actual: {self.listaAux} \")\n",
    "            else:\n",
    "                self.agregarFinal(numero)\n",
    "    \n",
    "    def delPrimero(self):\n",
    "            #Ele inar el Primero\n",
    "            elemento = self.listaAux.pop(0)\n",
    "            print(f\"Elimino el primer elemento de su Lista  {elemento } Lista Actual: {self.listaAux} \")\n",
    "\n",
    "    def encontrarEliminar(self,valor):\n",
    "        #Encontrar y eliminar un número específico de la lista.\n",
    "        self.listaAux.remove(valor)\n",
    "        print(f\"Elimino el Valor de su Lista  {valor} Lista Actual: {self.listaAux} \")\n",
    "\n",
    "    def ordenarAsendente(self):\n",
    "    #Ordenar la lista en orden ascendente.\n",
    "        listaOrdenada=sorted(self.listaAux)\n",
    "        print(f\"Su lista sin Ordenar es esta: {self.listaAux} y su lista Ordenada es: {listaOrdenada}\")\n",
    "   \n",
    "    def invertirLista(self):\n",
    "    #Invertir la lista.\n",
    "         listaInvertida = list(reversed(self.listaAux))\n",
    "         print(f\"Su lista Original es esta: {self.listaAux} y su lista Invertida es: {listaInvertida}\")"
   ]
  },
  {
   "cell_type": "code",
   "execution_count": 127,
   "id": "adef7fdb-5e1f-404a-b779-48908da13df5",
   "metadata": {},
   "outputs": [],
   "source": [
    "prueba = gestorLista([4, 8, 15, 16, 23, 42])"
   ]
  },
  {
   "cell_type": "code",
   "execution_count": 128,
   "id": "14f6af7c-e702-4239-9a7f-6b30307392c6",
   "metadata": {},
   "outputs": [
    {
     "name": "stdout",
     "output_type": "stream",
     "text": [
      "Agrego un valor al Final de la Lista es el : 6 Lista Actual: [4, 8, 15, 16, 23, 42, 6] \n"
     ]
    }
   ],
   "source": [
    "prueba.agregarFinal(6)"
   ]
  },
  {
   "cell_type": "code",
   "execution_count": 129,
   "id": "29c322e0-19d8-47ff-bf32-87bf8d45a795",
   "metadata": {},
   "outputs": [
    {
     "name": "stdout",
     "output_type": "stream",
     "text": [
      "Agrego un valor en la posición 2 fue el valor: 5 Lista Actual: [4, 8, 5, 16, 23, 42, 6] \n"
     ]
    }
   ],
   "source": [
    "prueba.agregarEnLugar(5,2)"
   ]
  },
  {
   "cell_type": "code",
   "execution_count": 130,
   "id": "df6e5e06-2f25-42d6-b488-ac5b6dca7096",
   "metadata": {},
   "outputs": [
    {
     "name": "stdout",
     "output_type": "stream",
     "text": [
      "Elimino el primer elemento de su Lista  4 Lista Actual: [8, 5, 16, 23, 42, 6] \n"
     ]
    }
   ],
   "source": [
    "prueba.delPrimero()"
   ]
  },
  {
   "cell_type": "code",
   "execution_count": 131,
   "id": "fa408cf7-13de-4a3c-a197-33f28865d5a4",
   "metadata": {},
   "outputs": [
    {
     "name": "stdout",
     "output_type": "stream",
     "text": [
      "Elimino el Valor de su Lista  23 Lista Actual: [8, 5, 16, 42, 6] \n"
     ]
    }
   ],
   "source": [
    "prueba.encontrarEliminar(23)"
   ]
  },
  {
   "cell_type": "code",
   "execution_count": 132,
   "id": "33eb8fad-7683-4641-a57d-6ecd3f81b881",
   "metadata": {},
   "outputs": [
    {
     "name": "stdout",
     "output_type": "stream",
     "text": [
      "Su lista sin Ordenar es esta: [8, 5, 16, 42, 6] y su lista Ordenada es: [5, 6, 8, 16, 42]\n"
     ]
    }
   ],
   "source": [
    "prueba.ordenarAsendente()"
   ]
  },
  {
   "cell_type": "code",
   "execution_count": 133,
   "id": "e69f290e-7e4f-4d81-b355-675617cebd2d",
   "metadata": {},
   "outputs": [
    {
     "name": "stdout",
     "output_type": "stream",
     "text": [
      "Su lista Original es esta: [8, 5, 16, 42, 6] y su lista Invertida es: [6, 42, 16, 5, 8]\n"
     ]
    }
   ],
   "source": [
    "prueba.invertirLista()"
   ]
  },
  {
   "cell_type": "code",
   "execution_count": null,
   "id": "136fc2cf-beae-41f9-9ad8-8ca11012ce99",
   "metadata": {},
   "outputs": [],
   "source": []
  }
 ],
 "metadata": {
  "kernelspec": {
   "display_name": "Python 3 (ipykernel)",
   "language": "python",
   "name": "python3"
  },
  "language_info": {
   "codemirror_mode": {
    "name": "ipython",
    "version": 3
   },
   "file_extension": ".py",
   "mimetype": "text/x-python",
   "name": "python",
   "nbconvert_exporter": "python",
   "pygments_lexer": "ipython3",
   "version": "3.11.1"
  }
 },
 "nbformat": 4,
 "nbformat_minor": 5
}
