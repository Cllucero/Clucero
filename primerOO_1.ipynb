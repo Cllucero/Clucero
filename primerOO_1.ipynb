{
 "cells": [
  {
   "cell_type": "code",
   "execution_count": 78,
   "id": "e4114e2e-d853-46b5-8fef-f22296cbcdb5",
   "metadata": {},
   "outputs": [],
   "source": [
    "class Prueba1 :\n",
    "    listaNumeros=[0,0,0,0,0,0]\n",
    "   \n",
    "    def __init__ (self,listaN):\n",
    "        self.listaNumeros = listaN\n",
    "    \n",
    "    def Promedio (self):\n",
    "        return ((sum(self.listaNumeros))/(len(self.listaNumeros)))\n",
    "    \n",
    "    def mediana (self):\n",
    "        listOrdenada= sorted(listaNumeros)\n",
    "        puntoCentral = len(listaNumeros)\n",
    "        if puntoCentral % 2 == 0 :\n",
    "            return listaOrdenada[puntoCentral]\n",
    "        else:\n",
    "            return ((( listOrdenada[puntoCentral])+( listOrdenada[puntoCentral+1])/2))\n",
    "                               \n",
    "        "
   ]
  },
  {
   "cell_type": "code",
   "execution_count": 79,
   "id": "d9d9d37e-d4d9-49c5-9f88-9d89293087e6",
   "metadata": {},
   "outputs": [
    {
     "name": "stdout",
     "output_type": "stream",
     "text": [
      "Promedio: 3.8333333333333335\n",
      "Mediana: 3.5\n"
     ]
    }
   ],
   "source": [
    "class Prueba2:\n",
    "    def __init__(self, listaN):\n",
    "        self.listaNumeros = listaN\n",
    "    \n",
    "    def promedio(self):\n",
    "        return sum(self.listaNumeros) / len(self.listaNumeros)\n",
    "    \n",
    "    def mediana(self):\n",
    "        listaOrdenada = sorted(self.listaNumeros)\n",
    "        n = len(listaOrdenada)\n",
    "        puntoCentral = n // 2\n",
    "        \n",
    "        if n % 2 == 0:\n",
    "            # Promedio de los dos números centrales\n",
    "            return (listaOrdenada[puntoCentral - 1] + listaOrdenada[puntoCentral]) / 2\n",
    "        else:\n",
    "            # Número central\n",
    "            return listaOrdenada[puntoCentral]\n",
    "\n",
    "# Ejemplo de uso:\n",
    "lista = [3, 1, 4, 1, 5, 9]\n",
    "prueba = Prueba1(lista)\n",
    "print(\"Promedio:\", prueba.promedio())\n",
    "print(\"Mediana:\", prueba.mediana())\n"
   ]
  },
  {
   "cell_type": "code",
   "execution_count": 80,
   "id": "f3d05299-f977-485e-8c4e-4871bec8feb2",
   "metadata": {},
   "outputs": [],
   "source": [
    "lu = Prueba1([2,4,6,7,8,9,3])"
   ]
  },
  {
   "cell_type": "code",
   "execution_count": 81,
   "id": "d920f87e-6f8b-43a0-b024-722591d2d07e",
   "metadata": {},
   "outputs": [
    {
     "data": {
      "text/plain": [
       "[2, 4, 6, 7, 8, 9, 3]"
      ]
     },
     "execution_count": 81,
     "metadata": {},
     "output_type": "execute_result"
    }
   ],
   "source": [
    "lu.listaNumeros"
   ]
  },
  {
   "cell_type": "code",
   "execution_count": 82,
   "id": "7bcf7dff-39ac-49c7-a1df-1971e13de63f",
   "metadata": {},
   "outputs": [
    {
     "data": {
      "text/plain": [
       "5.571428571428571"
      ]
     },
     "execution_count": 82,
     "metadata": {},
     "output_type": "execute_result"
    }
   ],
   "source": [
    "lu.promedio()"
   ]
  },
  {
   "cell_type": "code",
   "execution_count": 83,
   "id": "297ed541-cf92-4e00-912d-84e43ac9d560",
   "metadata": {},
   "outputs": [
    {
     "data": {
      "text/plain": [
       "6"
      ]
     },
     "execution_count": 83,
     "metadata": {},
     "output_type": "execute_result"
    }
   ],
   "source": [
    "lu.mediana()"
   ]
  },
  {
   "cell_type": "code",
   "execution_count": null,
   "id": "e988b020-b520-403e-973b-ee644c39d9dc",
   "metadata": {},
   "outputs": [],
   "source": []
  }
 ],
 "metadata": {
  "kernelspec": {
   "display_name": "Python 3 (ipykernel)",
   "language": "python",
   "name": "python3"
  },
  "language_info": {
   "codemirror_mode": {
    "name": "ipython",
    "version": 3
   },
   "file_extension": ".py",
   "mimetype": "text/x-python",
   "name": "python",
   "nbconvert_exporter": "python",
   "pygments_lexer": "ipython3",
   "version": "3.11.1"
  }
 },
 "nbformat": 4,
 "nbformat_minor": 5
}
